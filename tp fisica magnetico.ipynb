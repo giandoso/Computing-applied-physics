{
 "cells": [
  {
   "cell_type": "markdown",
   "metadata": {},
   "source": [
    "Calculations of motion of charged particle in xy plane with magnetic field in z direction"
   ]
  },
  {
   "cell_type": "markdown",
   "metadata": {},
   "source": [
    "Especifique a massa, a carga, a posição inicial e a velocidade inicial"
   ]
  },
  {
   "cell_type": "code",
   "execution_count": 1,
   "metadata": {},
   "outputs": [],
   "source": [
    "M = 1.7e-27\n",
    "Q = 1.6e-19\n",
    "X = 0\n",
    "Y = 0\n",
    "VX = 6e5\n",
    "VY = 0"
   ]
  },
  {
   "cell_type": "markdown",
   "metadata": {},
   "source": [
    "Especifique o instante inicial, o intervalo de tempo e o numero de intervalos"
   ]
  },
  {
   "cell_type": "code",
   "execution_count": 2,
   "metadata": {},
   "outputs": [],
   "source": [
    "T = 0\n",
    "DT = 3e-11\n",
    "NT = 6.5e-8"
   ]
  },
  {
   "cell_type": "markdown",
   "metadata": {},
   "source": [
    "Especifique o numero de intervalos a serem impressos"
   ]
  },
  {
   "cell_type": "code",
   "execution_count": 3,
   "metadata": {},
   "outputs": [],
   "source": [
    "N = 20"
   ]
  },
  {
   "cell_type": "markdown",
   "metadata": {},
   "source": [
    "Especifique as componentes do campo elétrico"
   ]
  },
  {
   "cell_type": "code",
   "execution_count": 4,
   "metadata": {},
   "outputs": [],
   "source": [
    "def FNBZ(X,Y): return .15"
   ]
  },
  {
   "cell_type": "code",
   "execution_count": 5,
   "metadata": {},
   "outputs": [],
   "source": [
    "import matplotlib.pyplot as plt\n",
    "import math\n",
    "\n",
    "x = []\n",
    "y = []\n",
    "tempo = 0\n",
    "DS = 0\n",
    "xAnt = 0\n",
    "yAnt = 0\n",
    "flag = False;"
   ]
  },
  {
   "cell_type": "code",
   "execution_count": 6,
   "metadata": {},
   "outputs": [],
   "source": [
    "while ( T <= NT):\n",
    "    T = T + DT\n",
    "    AX = Q * VY * FNBZ(X,Y)/M\n",
    "    AY = -Q * VX * FNBZ(X,Y)/M\n",
    "    X = X + VX*DT + .5 * AX * DT * DT\n",
    "    Y = Y + VY*DT + .5 * AY * DT * DT\n",
    "    VX = VX + AX*DT\n",
    "    VY = VY + AY*DT\n",
    "    x.append(X)\n",
    "    y.append(Y)\n",
    "    \n",
    "    # Calculo do DS\n",
    "    if(flag):\n",
    "        DS += math.sqrt((xAnt - X)**2 + (yAnt - Y)**2)\n",
    "    xAnt = X\n",
    "    yAnt = Y\n",
    "    flag = True;\n",
    "    # print (str(T) + '\\t' + str(X) + '\\t'+  str(Y) + '\\t'+ str(VX) + '\\t'+ str(VY))"
   ]
  },
  {
   "cell_type": "code",
   "execution_count": 7,
   "metadata": {},
   "outputs": [
    {
     "name": "stdout",
     "output_type": "stream",
     "text": [
      "Velocidade escalar: 599781.41637833\n"
     ]
    }
   ],
   "source": [
    "print (\"Velocidade escalar: \" + str(DS/T))"
   ]
  },
  {
   "cell_type": "code",
   "execution_count": 8,
   "metadata": {},
   "outputs": [
    {
     "data": {
      "text/plain": [
       "<function matplotlib.pyplot.show>"
      ]
     },
     "execution_count": 8,
     "metadata": {},
     "output_type": "execute_result"
    },
    {
     "data": {
      "image/png": "[encoded data removed]",
      "text/plain": [
       "<matplotlib.figure.Figure at 0x7fe4203deeb8>"
      ]
     },
     "metadata": {},
     "output_type": "display_data"
    }
   ],
   "source": [
    "plt.plot(x,y)\n",
    "plt.show"
   ]
  },
  {
   "cell_type": "code",
   "execution_count": null,
   "metadata": {},
   "outputs": [],
   "source": []
  }
 ],
 "metadata": {
  "kernelspec": {
   "display_name": "Python 3",
   "language": "python",
   "name": "python3"
  },
  "language_info": {
   "codemirror_mode": {
    "name": "ipython",
    "version": 3
   },
   "file_extension": ".py",
   "mimetype": "text/x-python",
   "name": "python",
   "nbconvert_exporter": "python",
   "pygments_lexer": "ipython3",
   "version": "3.6.4"
  }
 },
 "nbformat": 4,
 "nbformat_minor": 2
}
